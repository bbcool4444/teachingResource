{
 "cells": [
  {
   "cell_type": "markdown",
   "metadata": {},
   "source": [
    "我们知道两位同学的成绩和其录取情况\n",
    "\n",
    "现在有位同学的test成绩为7分，grades成绩为6分，问这位同学的录取结果？"
   ]
  },
  {
   "cell_type": "code",
   "execution_count": 59,
   "metadata": {},
   "outputs": [
    {
     "data": {
      "image/png": "[encoded data removed]",
      "text/plain": [
       "<Figure size 432x288 with 1 Axes>"
      ]
     },
     "metadata": {},
     "output_type": "display_data"
    }
   ],
   "source": [
    "import matplotlib.pyplot as plt\n",
    "\n",
    "fig, ax = plt.subplots()\n",
    "\n",
    "ax.set_ylim(0, 10)\n",
    "ax.set_xlim(0, 10)\n",
    "ax.set_xlabel('test')\n",
    "ax.set_ylabel('grades')\n",
    "\n",
    "ax.plot([3], [4], 'o', color='#87CEEB')\n",
    "ax.plot([8], [7], 'o', color='#FF0000')\n",
    "\n",
    "ax.set_title('classification_problem_1')\n",
    "    \n",
    "plt.show()"
   ]
  },
  {
   "cell_type": "code",
   "execution_count": 29,
   "metadata": {},
   "outputs": [
    {
     "data": {
      "image/png": "[encoded data removed]",
      "text/plain": [
       "<Figure size 432x288 with 1 Axes>"
      ]
     },
     "metadata": {},
     "output_type": "display_data"
    }
   ],
   "source": [
    "import matplotlib.pyplot as plt\n",
    "from collections import namedtuple\n",
    "import random\n",
    "\n",
    "\n",
    "Coord = namedtuple('Coor', 'x y')\n",
    "\n",
    "\n",
    "def f(num_of_points):\n",
    "    coords = []\n",
    "    for i in range(0, num_of_points):\n",
    "        x = round(random.uniform(0, 10), 1)\n",
    "        y = round(random.uniform(0, 10), 1)\n",
    "\n",
    "        coords.append(Coord(x, y))\n",
    "\n",
    "    return(coords)\n",
    "\n",
    "\n",
    "if __name__ == '__main__':\n",
    "    fig, ax = plt.subplots()\n",
    "    coords = f(40)\n",
    "    decision_boundry = 10\n",
    "    accepted = [coord for coord in coords if coord.x + coord.y >= decision_boundry]\n",
    "    rejected = [coord for coord in coords if coord.x + coord.y < decision_boundry]\n",
    "\n",
    "    ax.plot([coord.x for coord in accepted], [coord.y for coord in accepted], 'o', color='#87CEEB')\n",
    "    ax.plot([coord.x for coord in rejected], [coord.y for coord in rejected], 'o', color='#FF0000')\n",
    "    ax.set_title('classification_problem_1')\n",
    "    \n",
    "    plt.show()"
   ]
  },
  {
   "cell_type": "markdown",
   "metadata": {},
   "source": [
    "#### Linear Boundaries"
   ]
  },
  {
   "cell_type": "code",
   "execution_count": 1,
   "metadata": {},
   "outputs": [],
   "source": [
    "# TODO Linear Boundaries"
   ]
  },
  {
   "cell_type": "markdown",
   "metadata": {},
   "source": [
    "#### Higher Dimensions"
   ]
  },
  {
   "cell_type": "code",
   "execution_count": 2,
   "metadata": {},
   "outputs": [],
   "source": [
    "# TODO Higher Dimentions"
   ]
  },
  {
   "cell_type": "markdown",
   "metadata": {},
   "source": [
    "#### Why \"Neural Networks\"?"
   ]
  },
  {
   "cell_type": "markdown",
   "metadata": {},
   "source": [
    "\"所以，伟大的皇帝，您的帝国还要发展!\"冯•诺伊曼不失时机地说，\"如果掌握了太阳运行的规律\n",
    "，你就能充分利用每一个恒纪元，同时避免乱纪元带来的损失，这样发展速度比西洋要快得多。请你\n",
    "相信我们，我们是学者，只要能用三定律和微积分准确预测太阳的运行，不在乎谁征服统治世界。\"\n",
    " \n",
    "\"朕当然需要预测太阳的运行，但你们让我集结三千万大军，至少要首先向朕演示一下这种计算如何进\n",
    "行吧？\"\n",
    " \n",
    "“陛下，请给我三个士兵，我将为您演示。\"冯•诺伊曼兴奋起来。\n",
    " \n",
    "\"三个?只要三个吗，朕可以轻易给你三千个。\"秦始皇用不信任的目光扫视着着冯•诺伊曼。\n",
    " \n",
    "伟大的陛下，您刚提到东方人在科学思维上的缺陷，就是因为你们没有意识到，复杂的宇宙万物其实\n",
    "是由最简单的单元构成的。我只要三个，陛下。\"\n",
    " \n",
    "秦始皇挥手召来了三名士兵，他们都很年轻，与秦国的其他士兵一样，一举一动像听从命令的机器。\n",
    " \n",
    "\"我不知道你们的名字，\"冯•诺伊曼拍拍前两个士兵的肩，\"你们两个负责信号输入，就叫‘入1’、\n",
    "‘入2’吧，\"他又指指最后一名士兵，\"你，负责信号输出，就叫 ‘出’吧，”他伸手拨动三名士兵\n",
    "，\"这样，站成一个三角形，出是顶端，入l和入2是底边，\"\n",
    " \n",
    "\"哼，你让他们成楔形攻击队形不就行了?\"秦始皇轻蔑地看着冯•诺伊曼。\n",
    " \n",
    "牛顿不知从什么地方掏出六面小旗，三白三黑，冯•诺伊曼接过来分给三名士兵，每人一白一黑，说:\n",
    "白色代表0，黑色代表1。好，现在听我说，出，你转身着着入1和入2，如果他们都举黑旗，你就举黑\n",
    "旗，其他的情况你都举白旗，这种情况有三种:入1白，入2黑;入1黑，入2白;入1、入2都是白。\"\n",
    " \n",
    "\"我觉得你应该换个颜色，白旗代表投降。\"奏始皇说。\n",
    " \n",
    "兴奋中的冯•诺伊曼没有理睬皇帝，对三名士兵大声命令:\"现在开始运行!入1入2，你们每人随意举旗\n",
    "，好，举!好，再举!举!\"\n",
    " \n",
    "入1和入2同时举了三次旗，第一次是黑黑，第二次是白黑，第三次是黑白。出都进行了正确反应，分\n",
    "别举起了一次黑和两次白。\n",
    " \n",
    "\"很好，运行正确，陛下，您的士兵很聪明!\"\n",
    " \n",
    "“这事儿傻瓜都会，你能告诉朕，他们在干什么吗?\"秦始皇一脸困惑地问。\n",
    " \n",
    "\"这三个人组成了一个计算系统的部件，是门部件的一种，叫‘与门'。\"冯•诺伊曼说完停了一会儿，\n",
    "好让皇帝理解。\n",
    " \n",
    "秦始皇面无表情地说：“朕是够郁闷的，好，继续。”\n",
    " \n",
    "冯•诺伊曼转向排成三角阵的三名士兵:\"我们构建下一个部件。你，出，只要看到入1和入2中有一个\n",
    "人举黑旗，你就举黑旗，这种情况有三种组合黑黑、白黑、黑白，剩下的一种情况一一白白，你就举\n",
    "白旗。明白了吗?好孩子，你其聪明，门部件的正确运行你是关键，好好干，皇帝会奖赏你的!下面开\n",
    "始运行:举!好，再举!再举!好极了，运行正常，陛下，这个门部件叫或门。\"\n",
    " \n",
    "然后，冯•诺伊曼又用三名士兵构建了与非门、或非门、异或门、同或门和三态门，最后只用两名士\n",
    "兵构建了最简单的非门，出总是举与入颜色相反的旗。\n",
    " \n",
    "冯•诺伊曼对皇帝鞠躬说:\"现在、陛下，所有的门部件都已演示完毕，这很简单不是吗?任何三名士兵\n",
    "经过一小时的训练就可以掌握。\"\n",
    " \n",
    "\"他们不需要学更多的东西了吗?\"秦始皇问。\n",
    " \n",
    "\"不需要，我们组建一千万个这样的门部件，再将这些部件组合成一个系统，这个系统就能进行我们所\n",
    "需要的运算，解出那些预测太阳运行的微分方程。这个系统，我们把它叫做……嗯，叫做……\"\n",
    " \n",
    "\"计算机。\"汪淼说。\n",
    " \n",
    "“啊一一好!\"冯，诺伊曼对汪淼竖起一根指头，“计算机，这个名字好，整个系统实际上就是一部庞\n",
    "大的机器，是有史以来最复杂的机器!\""
   ]
  },
  {
   "cell_type": "code",
   "execution_count": 3,
   "metadata": {},
   "outputs": [],
   "source": [
    "# TODO Why \"Neural Networks\"?"
   ]
  },
  {
   "cell_type": "markdown",
   "metadata": {},
   "source": [
    "### Operations(perceptron)\n",
    "\n",
    "\n",
    "| | OR | | | AND | | | NOT | | | XOR |\n",
    "| :--: | :--: | :--: | :--: | :--: | :--: | :--: | :--: | :--: | :--: | :--: | :--: |\n",
    "| input1 | input2 | output | input1 | input2 | output | input1 | input2 | output | input1 | input2 | output |\n",
    "| <font color=#1E90FF>True</font> | <font color=#1E90FF>True</font> | | <font color=#1E90FF>True</font> | <font color=#1E90FF>True</font> | | <font color=#1E90FF>True</font> | <font color=#1E90FF>True</font> | | <font color=#1E90FF>True</font> | <font color=#1E90FF>True</font> | |\n",
    "| <font color=#1E90FF>True</font> | <font color=#FF0000>False</font> | | <font color=#1E90FF>True</font> | <font color=#FF0000>False</font> | | <font color=#1E90FF>True</font> | <font color=#FF0000>False</font> | | <font color=#1E90FF>True</font> | <font color=#FF0000>False</font> | |\n",
    "| <font color=#FF0000>False</font> | <font color=#1E90FF>True</font> | | <font color=#FF0000>False</font> | <font color=#1E90FF>True</font> | | <font color=#FF0000>False</font> | <font color=#1E90FF>True</font> | | <font color=#FF0000>False</font> | <font color=#1E90FF>True</font> | |\n",
    "| <font color=#FF0000>False</font> | <font color=#FF0000>False</font> | | <font color=#FF0000>False</font> | <font color=#FF0000>False</font> | | <font color=#FF0000>False</font> | <font color=#FF0000>False</font> | | <font color=#FF0000>False</font> | <font color=#FF0000>False</font> | |"
   ]
  },
  {
   "cell_type": "markdown",
   "metadata": {},
   "source": [
    "#### What are the weights and bias for the AND perceptron?\n",
    "Set the weights (`weight1`, `weight2`) and bias `bias` to the correct values that calculate AND operation as shown above."
   ]
  },
  {
   "cell_type": "code",
   "execution_count": null,
   "metadata": {},
   "outputs": [],
   "source": [
    "import pandas as pd\n",
    "\n",
    "# TODO: Set weight1, weight2, and bias\n",
    "weight1 = 0\n",
    "weight2 = 0\n",
    "bias = 0\n",
    "\n",
    "\n",
    "# DON'T CHANGE ANYTHING BELOW\n",
    "# Inputs and outputs\n",
    "test_inputs = [(0, 0), (0, 1), (1, 0), (1, 1)]\n",
    "correct_outputs = [False, False, False, True]\n",
    "outputs = []\n",
    "\n",
    "# Generate and check output\n",
    "for test_input, correct_output in zip(test_inputs, correct_outputs):\n",
    "    linear_combination = weight1 * test_input[0] + weight2 * test_input[1] + bias\n",
    "    output = int(linear_combination >= 0)\n",
    "    is_correct_string = 'Yes' if output == correct_output else 'No'\n",
    "    outputs.append([test_input[0], test_input[1], linear_combination, output, is_correct_string])\n",
    "\n",
    "# Print output\n",
    "num_wrong = len([output[4] for output in outputs if output[4] == 'No'])\n",
    "output_frame = pd.DataFrame(outputs, columns=['Input 1', '  Input 2', '  Linear Combination', '  Activation Output', '  Is Correct'])\n",
    "if not num_wrong:\n",
    "    print('Nice!  You got it all correct.\\n')\n",
    "else:\n",
    "    print('You got {} wrong.  Keep trying!\\n'.format(num_wrong))\n",
    "print(output_frame.to_string(index=False))"
   ]
  },
  {
   "cell_type": "markdown",
   "metadata": {},
   "source": [
    "#### What are two ways to go from an AND perceptron to an OR perceptron?\n",
    "\n",
    "- [ ] 增加权重\n",
    "- [ ] 减小权重\n",
    "- [ ] 增加其中一个权重\n",
    "- [ ] 减小其中一个权重\n",
    "- [ ] 增加偏差\n",
    "- [ ] 减小偏差"
   ]
  },
  {
   "cell_type": "markdown",
   "metadata": {},
   "source": [
    "#### NOT Perceptron\n",
    "Unlike the other perceptrons we looked at, the NOT operation only cares about one input. The operation returns a `0` if the input is `1` and a `1` if it's a `0`. The other inputs to the perceptron are ignored.\n",
    "\n",
    "In this quiz, you'll set the weights (`weight1`, `weight2`) and bias `bias` to the values that calculate the NOT operation on the second input and ignores the first input."
   ]
  },
  {
   "cell_type": "code",
   "execution_count": null,
   "metadata": {},
   "outputs": [],
   "source": [
    "import pandas as pd\n",
    "\n",
    "# TODO: Set weight1, weight2, and bias\n",
    "weight1 = 0\n",
    "weight2 = 0\n",
    "bias = 0\n",
    "\n",
    "\n",
    "# DON'T CHANGE ANYTHING BELOW\n",
    "# Inputs and outputs\n",
    "test_inputs = [(0, 0), (0, 1), (1, 0), (1, 1)]\n",
    "correct_outputs = [True, False, True, False]\n",
    "outputs = []\n",
    "\n",
    "# Generate and check output\n",
    "for test_input, correct_output in zip(test_inputs, correct_outputs):\n",
    "    linear_combination = weight1 * test_input[0] + weight2 * test_input[1] + bias\n",
    "    output = int(linear_combination >= 0)\n",
    "    is_correct_string = 'Yes' if output == correct_output else 'No'\n",
    "    outputs.append([test_input[0], test_input[1], linear_combination, output, is_correct_string])\n",
    "\n",
    "# Print output\n",
    "num_wrong = len([output[4] for output in outputs if output[4] == 'No'])\n",
    "output_frame = pd.DataFrame(outputs, columns=['Input 1', '  Input 2', '  Linear Combination', '  Activation Output', '  Is Correct'])\n",
    "if not num_wrong:\n",
    "    print('Nice!  You got it all correct.\\n')\n",
    "else:\n",
    "    print('You got {} wrong.  Keep trying!\\n'.format(num_wrong))\n",
    "print(output_frame.to_string(index=False))"
   ]
  },
  {
   "cell_type": "markdown",
   "metadata": {},
   "source": [
    "#### Quiz: Build an XOR Multi-Layer Perceptron\n",
    "Now, let's build a multi-layer perceptron from the AND, NOT, and OR perceptrons to create XOR logic!\n",
    "\n",
    "The neural network below contains 3 perceptrons, A, B, and C. The last one (AND) has been given for you. The input to the neural network is from the first node. The output comes out of the last node.\n",
    "\n",
    "The multi-layer perceptron above calculates XOR. Each perceptron is a logic operation of AND, OR, and NOT. However, the perceptrons A, B, and C don't indicate their operation. In the following quiz, set the correct operations for the perceptrons to calculate XOR."
   ]
  },
  {
   "cell_type": "markdown",
   "metadata": {},
   "source": [
    "<img src=\"images/XOR.png\" style=\"width:500;height:300px;\">\n",
    "<caption><center> **Figure 1**: Basic RNN model </center></caption>"
   ]
  }
 ],
 "metadata": {
  "kernelspec": {
   "display_name": "Python 3",
   "language": "python",
   "name": "python3"
  },
  "language_info": {
   "codemirror_mode": {
    "name": "ipython",
    "version": 3
   },
   "file_extension": ".py",
   "mimetype": "text/x-python",
   "name": "python",
   "nbconvert_exporter": "python",
   "pygments_lexer": "ipython3",
   "version": "3.6.5"
  }
 },
 "nbformat": 4,
 "nbformat_minor": 2
}
